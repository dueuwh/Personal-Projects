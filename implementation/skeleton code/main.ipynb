{
  "cells": [
    {
      "cell_type": "code",
      "execution_count": 1,
      "metadata": {
        "id": "UJDR-RdXqeOP"
      },
      "outputs": [],
      "source": [
        "import torch\n",
        "import torch.nn as nn\n",
        "import torch.optim as optim\n",
        "import matplotlib.pyplot as plt\n",
        "import torchvision.transforms as transforms\n",
        "import torchvision.datasets as datasets"
      ]
    },
    {
      "cell_type": "code",
      "execution_count": 2,
      "metadata": {
        "colab": {
          "base_uri": "https://localhost:8080/"
        },
        "id": "hXUOUyEArZ6x",
        "outputId": "332ff148-477e-48e4-c5b1-8f419508ad87"
      },
      "outputs": [
        {
          "name": "stdout",
          "output_type": "stream",
          "text": [
            "cuda\n"
          ]
        }
      ],
      "source": [
        "# check cuda\n",
        "device = \"cuda\" if torch.cuda.is_available() else \"cpu\"\n",
        "print(device)"
      ]
    },
    {
      "cell_type": "markdown",
      "metadata": {
        "id": "j-PaJkl6qqra"
      },
      "source": [
        "##Director"
      ]
    },
    {
      "cell_type": "code",
      "execution_count": 1,
      "metadata": {
        "id": "_AWTTgX9qd5b"
      },
      "outputs": [],
      "source": [
        "class Director:\n",
        "    def __init__(self, model, optimizer, learning_rate, train_loader, test_loader):\n",
        "        self.model = model\n",
        "        self.optimizer = self.set_optimizer(optimizer, learning_rate)\n",
        "        self.train_loader = train_loader\n",
        "        self.test_loader = test_loader\n",
        "\n",
        "    def set_optimizer(self, optimizer, learning_rate):\n",
        "        if optimizer == \"SGD\":\n",
        "            return optim.SGD(...)\n",
        "        elif optimizer == \"Adam\":\n",
        "            return ...\n",
        "        else:\n",
        "            raise ValueError(\"Invalid optimizer\")\n",
        "\n",
        "    def train(self):\n",
        "        # “train” function should train self.model with self.train_loader.\n",
        "        ...\n",
        "\n",
        "    def test(self):\n",
        "        # “test” function should test self.model with self.test_loader.\n",
        "        ...\n",
        "\n",
        "    def plot(self):\n",
        "        \"\"\"\n",
        "        The plot function uses matplotlib’s plt.plot() to create a line chart\n",
        "        with epochs on the x-axis and accuracy(%) on the y-axis to display train and test result.\n",
        "        The title must be your Id-number and name.\n",
        "        \"\"\"\n",
        "        plt.title(\"2022160601_원지환\")\n",
        "    def run(self, epochs):\n",
        "        # If the “run” function is executed, it should repeat train and test for the number of epochs.\n",
        "        ...\n"
      ]
    },
    {
      "cell_type": "markdown",
      "metadata": {
        "id": "Il7-liLRqXxz"
      },
      "source": [
        "##Model"
      ]
    },
    {
      "cell_type": "code",
      "execution_count": null,
      "metadata": {
        "id": "ES1ag9FPqXiz"
      },
      "outputs": [],
      "source": [
        "\n",
        "\"\"\"\n",
        "Implemenet ResNetBlock and ResNet.\n",
        "Add hyperparameters to ResNet model.\n",
        "Refer to ReseNet paper, freely modify the model, but you must implement the residuals.\n",
        "\"\"\"\n",
        "\n",
        "class ResNetBlock(nn.Module):\n",
        "    def __init__(self, in_channels, out_channels):\n",
        "        super(ResNetBlock, self).__init__()\n",
        "        pass\n",
        "\n",
        "    def forward(self, x):\n",
        "        pass\n",
        "\n",
        "\n",
        "class ResNet(nn.Module):\n",
        "    def __init__(self, out_class=10):\n",
        "        super(ResNet, self).__init__()\n",
        "        # Utilize ResNet Block.\n",
        "        pass\n",
        "\n",
        "    def forward(self, x):\n",
        "        pass\n"
      ]
    },
    {
      "cell_type": "markdown",
      "metadata": {
        "id": "pXjxwK9jqYOx"
      },
      "source": [
        "##Main"
      ]
    },
    {
      "cell_type": "code",
      "execution_count": null,
      "metadata": {
        "id": "64El_FkvqSkL"
      },
      "outputs": [],
      "source": [
        "\"\"\"\n",
        "No need to change this file except transform(pre-precessing).\n",
        "I'll test your model after 10 epoch training\n",
        "\"\"\"\n",
        "\n",
        "# If you want, apply any preprocessing steps\n",
        "transform = transforms.Compose(\n",
        "    [transforms.ToTensor(),\n",
        "     transforms.Normalize((0.5, 0.5, 0.5), (0.5, 0.5, 0.5))])\n",
        "\n",
        "full_trainset = datasets.CIFAR10(root='../data', train=True, download=True, transform=transform)\n",
        "trainset_size = len(full_trainset) // 10   # We'll use only 6000.\n",
        "\n",
        "trainset, _ = torch.utils.data.random_split(full_trainset, [trainset_size, len(full_trainset) - trainset_size])\n",
        "testset = datasets.CIFAR10(root='../data', train=False, download=True, transform=transform)\n",
        "\n",
        "train_loader = torch.utils.data.DataLoader(trainset, batch_size=4, shuffle=True)\n",
        "test_loader = torch.utils.data.DataLoader(testset, batch_size=4, shuffle=False)\n",
        "\n",
        "model = ResNet().to(device)\n",
        "\n",
        "director = Director(model, optimizer=\"SGD\", learning_rate=0.9,\n",
        "                    train_loader=train_loader, test_loader=test_loader)\n",
        "\n",
        "\n",
        "director.run(epochs=10)\n",
        "director.plot()\n"
      ]
    }
  ],
  "metadata": {
    "accelerator": "GPU",
    "colab": {
      "gpuType": "T4",
      "provenance": []
    },
    "kernelspec": {
      "display_name": "Python 3",
      "name": "python3"
    },
    "language_info": {
      "name": "python"
    }
  },
  "nbformat": 4,
  "nbformat_minor": 0
}
